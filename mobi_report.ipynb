{
 "cells": [
  {
   "cell_type": "markdown",
   "id": "7011f035",
   "metadata": {},
   "source": [
    "# Report ( 모비딕 )"
   ]
  },
  {
   "cell_type": "markdown",
   "id": "8387a127",
   "metadata": {},
   "source": [
    "## curaition 아이디어 소개\n",
    "\n",
    ">저희 팀은 고객뿐만 아니라 증권회사에게도 이익이 될 수 있는 curation 방안을 생각했습니다.  \n",
    "증권사는 고객들의 거래량이 늘어날 때 수수료를 통해서 금전적 이익을 얻습니다.  \n",
    "일반적인 고객들에게 큰 수익을 내는 것보다 리스크를 잘 분배해서 손실을 얼마나 적게 보느냐가 더 중요합니다.  \n",
    "양측의 이익을 위해서 저희는 '개인용 포트폴리오 curation'을 생각했습니다.\n",
    "개인은 일반 펀드에서 많은 수수료를 때야지 할 수 있는 포트폴리오 운영을 저희가 추천하는 curation으로 보다 쉽게 할 수 있습니다.  \n",
    "포트폴리오 curation에는 그룹화된 고객의 성향에 맞게 원자재, 주식, 채권 같은 대략적인 금융상품의 비율이 추천될 것입니다.\n",
    "추천된 비율 안에서 고객이 직접 선택해서 세부적인 상품들을 채워넣을 수 있게 프레임을 제공합니다.\n",
    "이를 통해 고객들은 포트폴리오를 통한 분할투자의 효과를 얻을 수 있게됩니다.  \n",
    "포트폴리오의 각 요소들은 시간이 지남에 따라 그 비율이 변하고, 본래 의도했던 리스크에서 벗어날 수 있습니다.  \n",
    "그때 필수적으로 포트폴리오에서는 리밸런싱이라는 작업을 해야합니다.  \n",
    "금융사는 자사 포트폴리오 curaition 서비스를 이용한 고객들에게 그 비율의 표준편차가 일정정도 이상 벗어나면 리밸런싱을 자동적으로 진행해주거나 고객에게 알림을 보내서 리밸런싱을 유도할 수 있습니다.  \n",
    "리밸런싱으로 하면서 발생하는 거래들의 수수료를 통해서 금융사는 그만큼의 금전적이득을 얻을 수 있습니다.  \n",
    "저희 '개인용 포트폴리오 curation'은 고객과 증권사 양측이 모두 이익을 얻을 수 있는 win-win 전략입니다.  "
   ]
  },
  {
   "cell_type": "markdown",
   "id": "a1e4caa0",
   "metadata": {},
   "source": [
    "## 표적 Data\n",
    "\n",
    "> 포트폴리오는 단기 투자보다는 장기 투자에 최적화된 전략입니다.  \n",
    "거래량이 많고 뚜렷한 철학이 있는 단기 투자자들에게 저희가 제공하는 curaition은 효용이 떨어질 것 입니다.  \n",
    "장기적 투자를 하는 고객들이 포트폴리오 curaition을 했을 때 양측에게 모두 이익이 될 것이라고 판단했습니다.  \n",
    "거래량과 접속량이 적은 고객들의 Data를 표적 Data로 설정하는 것을 일차적인 목표로 설정했습니다."
   ]
  },
  {
   "cell_type": "markdown",
   "id": "a2cdba0b",
   "metadata": {},
   "source": []
  },
  {
   "cell_type": "markdown",
   "id": "8bc33cd4",
   "metadata": {},
   "source": []
  },
  {
   "cell_type": "markdown",
   "id": "4951849f",
   "metadata": {},
   "source": []
  },
  {
   "cell_type": "code",
   "execution_count": null,
   "id": "486464c5",
   "metadata": {},
   "outputs": [],
   "source": []
  }
 ],
 "metadata": {
  "kernelspec": {
   "display_name": "Python 3 (ipykernel)",
   "language": "python",
   "name": "python3"
  },
  "language_info": {
   "codemirror_mode": {
    "name": "ipython",
    "version": 3
   },
   "file_extension": ".py",
   "mimetype": "text/x-python",
   "name": "python",
   "nbconvert_exporter": "python",
   "pygments_lexer": "ipython3",
   "version": "3.9.12"
  }
 },
 "nbformat": 4,
 "nbformat_minor": 5
}
